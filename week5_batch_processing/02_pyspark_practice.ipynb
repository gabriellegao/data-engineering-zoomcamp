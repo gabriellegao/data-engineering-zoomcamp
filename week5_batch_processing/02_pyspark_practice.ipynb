{
 "cells": [
  {
   "cell_type": "code",
   "execution_count": 1,
   "id": "9db66b63",
   "metadata": {},
   "outputs": [],
   "source": [
    "import pyspark\n",
    "from pyspark.sql import SparkSession"
   ]
  },
  {
   "cell_type": "code",
   "execution_count": 2,
   "id": "c0f33830",
   "metadata": {},
   "outputs": [
    {
     "name": "stderr",
     "output_type": "stream",
     "text": [
      "Setting default log level to \"WARN\".\n",
      "To adjust logging level use sc.setLogLevel(newLevel). For SparkR, use setLogLevel(newLevel).\n"
     ]
    },
    {
     "name": "stdout",
     "output_type": "stream",
     "text": [
      "24/12/31 20:02:28 WARN NativeCodeLoader: Unable to load native-hadoop library for your platform... using builtin-java classes where applicable\n"
     ]
    }
   ],
   "source": [
    "spark = SparkSession.builder \\\n",
    "    .master(\"local[*]\") \\\n",
    "    .appName('test') \\\n",
    "    .getOrCreate()"
   ]
  },
  {
   "cell_type": "code",
   "execution_count": 3,
   "id": "600603e1",
   "metadata": {},
   "outputs": [
    {
     "name": "stdout",
     "output_type": "stream",
     "text": [
      "--2024-12-31 04:12:49--  https://d37ci6vzurychx.cloudfront.net/trip-data/fhvhv_tripdata_2021-01.parquet\n",
      "Resolving d37ci6vzurychx.cloudfront.net (d37ci6vzurychx.cloudfront.net)... 54.230.209.126, 54.230.209.72, 54.230.209.200, ...\n",
      "Connecting to d37ci6vzurychx.cloudfront.net (d37ci6vzurychx.cloudfront.net)|54.230.209.126|:443... connected.\n",
      "HTTP request sent, awaiting response... 200 OK\n",
      "Length: 308924937 (295M) [application/x-www-form-urlencoded]\n",
      "Saving to: ‘fhvhv_tripdata_2021-01.parquet’\n",
      "\n",
      "fhvhv_tripdata_2021 100%[===================>] 294.61M  58.5MB/s    in 5.2s    \n",
      "\n",
      "2024-12-31 04:12:54 (56.3 MB/s) - ‘fhvhv_tripdata_2021-01.parquet’ saved [308924937/308924937]\n",
      "\n"
     ]
    }
   ],
   "source": [
    "!wget https://d37ci6vzurychx.cloudfront.net/trip-data/fhvhv_tripdata_2021-01.parquet"
   ]
  },
  {
   "cell_type": "code",
   "execution_count": 4,
   "id": "0f4ae0c3",
   "metadata": {},
   "outputs": [
    {
     "name": "stdout",
     "output_type": "stream",
     "text": [
      "1006794 fhvhv_tripdata_2021-01.parquet\r\n"
     ]
    }
   ],
   "source": [
    "!wc -l fhvhv_tripdata_2021-01.parquet"
   ]
  },
  {
   "cell_type": "code",
   "execution_count": 49,
   "id": "81533947",
   "metadata": {},
   "outputs": [],
   "source": [
    "from pyspark.sql.types import StructType, StructField, StringType, TimestampType, IntegerType"
   ]
  },
  {
   "cell_type": "code",
   "execution_count": 50,
   "id": "187c2a22",
   "metadata": {},
   "outputs": [],
   "source": [
    "schema = StructType([\n",
    "    StructField('hvfhs_license_num', StringType(), True), \n",
    "    StructField('dispatching_base_num', StringType(), True), \n",
    "    StructField('pickup_datetime', TimestampType(), True), \n",
    "    StructField('dropoff_datetime', TimestampType(), True), \n",
    "    StructField('PULocationID', IntegerType(), True), \n",
    "    StructField('DOLocationID', IntegerType(), True)])"
   ]
  },
  {
   "cell_type": "code",
   "execution_count": 51,
   "id": "3e65eaa1",
   "metadata": {},
   "outputs": [],
   "source": [
    "df = spark.read \\\n",
    "    .options(header=True, schema = schema)\\\n",
    "    .parquet('fhvhv_tripdata_2021-01.parquet')\\\n",
    "    .select('hvfhs_license_num', 'dispatching_base_num'\n",
    "            , 'pickup_datetime', 'dropoff_datetime'\n",
    "           , 'PULocationID', 'DOLocationID')"
   ]
  },
  {
   "cell_type": "code",
   "execution_count": 52,
   "id": "b8ac2b97",
   "metadata": {},
   "outputs": [
    {
     "data": {
      "text/plain": [
       "StructType([StructField('hvfhs_license_num', StringType(), True), StructField('dispatching_base_num', StringType(), True), StructField('pickup_datetime', TimestampType(), True), StructField('dropoff_datetime', TimestampType(), True), StructField('PULocationID', LongType(), True), StructField('DOLocationID', LongType(), True)])"
      ]
     },
     "execution_count": 52,
     "metadata": {},
     "output_type": "execute_result"
    }
   ],
   "source": [
    "df.schema"
   ]
  },
  {
   "cell_type": "code",
   "execution_count": 20,
   "id": "804b6a64",
   "metadata": {},
   "outputs": [],
   "source": [
    "# !head -n 1001 fhvhv_tripdata_2021-01.parquet > head.parquet"
   ]
  },
  {
   "cell_type": "code",
   "execution_count": 53,
   "id": "79cc33d7",
   "metadata": {},
   "outputs": [],
   "source": [
    "df = df.repartition(24) #Manually partition the file to 24 blocks"
   ]
  },
  {
   "cell_type": "code",
   "execution_count": 54,
   "id": "3b8139d1",
   "metadata": {},
   "outputs": [
    {
     "name": "stderr",
     "output_type": "stream",
     "text": [
      "                                                                                \r"
     ]
    }
   ],
   "source": [
    "df.write.parquet('fhvhv/2021/01/')"
   ]
  },
  {
   "cell_type": "code",
   "execution_count": 5,
   "id": "be9108c6",
   "metadata": {},
   "outputs": [],
   "source": [
    "df = spark.read.format('parquet').load('fhvhv/2021/01/')"
   ]
  },
  {
   "cell_type": "code",
   "execution_count": 8,
   "id": "dbe8e4ff",
   "metadata": {},
   "outputs": [
    {
     "name": "stdout",
     "output_type": "stream",
     "text": [
      "+-----------------+--------------------+-------------------+-------------------+------------+------------+\n",
      "|hvfhs_license_num|dispatching_base_num|    pickup_datetime|   dropoff_datetime|PULocationID|DOLocationID|\n",
      "+-----------------+--------------------+-------------------+-------------------+------------+------------+\n",
      "|           HV0003|              B02870|2021-01-20 14:18:56|2021-01-20 14:41:03|          47|          74|\n",
      "|           HV0003|              B02872|2021-01-28 08:33:55|2021-01-28 08:45:46|         229|         170|\n",
      "|           HV0005|              B02510|2021-01-09 01:57:17|2021-01-09 02:27:17|           3|          76|\n",
      "|           HV0005|              B02510|2021-01-29 09:21:56|2021-01-29 09:40:04|          89|          35|\n",
      "|           HV0003|              B02875|2021-01-01 01:29:30|2021-01-01 01:48:48|          61|          62|\n",
      "|           HV0003|              B02875|2021-01-15 03:20:58|2021-01-15 03:39:30|          76|         225|\n",
      "|           HV0003|              B02871|2021-01-04 22:54:17|2021-01-04 23:19:56|         114|         116|\n",
      "|           HV0005|              B02510|2021-01-03 02:43:29|2021-01-03 02:51:57|          41|          75|\n",
      "|           HV0003|              B02869|2021-01-07 21:27:18|2021-01-07 21:44:08|         186|         265|\n",
      "|           HV0003|              B02871|2021-01-21 20:49:51|2021-01-21 21:02:00|         183|         254|\n",
      "|           HV0003|              B02880|2021-01-14 13:43:48|2021-01-14 13:53:09|         200|         241|\n",
      "|           HV0003|              B02867|2021-01-19 19:36:49|2021-01-19 19:42:21|         112|          80|\n",
      "|           HV0003|              B02866|2021-01-19 12:25:20|2021-01-19 12:30:10|         177|          35|\n",
      "|           HV0003|              B02617|2021-01-22 09:28:15|2021-01-22 09:39:33|         168|         223|\n",
      "|           HV0003|              B02876|2021-01-02 15:01:08|2021-01-02 15:14:29|          45|         186|\n",
      "|           HV0003|              B02875|2021-01-22 17:46:02|2021-01-22 18:16:49|         198|           7|\n",
      "|           HV0005|              B02510|2021-01-22 08:19:58|2021-01-22 08:43:34|         174|          53|\n",
      "|           HV0003|              B02875|2021-01-16 05:14:54|2021-01-16 05:20:49|          81|          81|\n",
      "|           HV0005|              B02510|2021-01-06 11:52:53|2021-01-06 12:00:29|         145|         112|\n",
      "|           HV0003|              B02867|2021-01-16 13:06:54|2021-01-16 13:23:01|         126|          69|\n",
      "+-----------------+--------------------+-------------------+-------------------+------------+------------+\n",
      "only showing top 20 rows\n",
      "\n",
      "root\n",
      " |-- hvfhs_license_num: string (nullable = true)\n",
      " |-- dispatching_base_num: string (nullable = true)\n",
      " |-- pickup_datetime: timestamp (nullable = true)\n",
      " |-- dropoff_datetime: timestamp (nullable = true)\n",
      " |-- PULocationID: long (nullable = true)\n",
      " |-- DOLocationID: long (nullable = true)\n",
      "\n"
     ]
    }
   ],
   "source": [
    "# Schema Commands\n",
    "df.schema\n",
    "df.printSchema()"
   ]
  },
  {
   "cell_type": "code",
   "execution_count": null,
   "id": "5e716c26",
   "metadata": {},
   "outputs": [],
   "source": [
    "# Output Commands\n",
    ".show()\n",
    ".take(num_records)\n",
    ".head()\n",
    ".write"
   ]
  },
  {
   "cell_type": "code",
   "execution_count": null,
   "id": "294af541",
   "metadata": {},
   "outputs": [],
   "source": [
    "# Spark Functions\n",
    "from pyspark.sql import functions as F\n",
    "F.to_date()\n",
    "F.udf()"
   ]
  },
  {
   "cell_type": "code",
   "execution_count": null,
   "id": "02910611",
   "metadata": {},
   "outputs": [],
   "source": [
    "#UDF is abbreviation of User Defined Function\n",
    "def crazy_stuff(base_num):\n",
    "    num = int(base_num[1:])\n",
    "    if num % 7 == 0:\n",
    "        return f's/{num:03x}'\n",
    "    elif num % 3 == 0:\n",
    "        return f'a/{num:03x}'\n",
    "    else:\n",
    "        return f'e/{num:03x}'\n",
    "\n",
    "crazy_stuff_udf = F.udf(crazy_stuff, returnType = StringType())\n",
    "\n",
    "df\\\n",
    "    .withColumn('base_id', crazy_stuff_udf(df.dispatching_base_num))"
   ]
  }
 ],
 "metadata": {
  "kernelspec": {
   "display_name": "Python 3 (ipykernel)",
   "language": "python",
   "name": "python3"
  },
  "language_info": {
   "codemirror_mode": {
    "name": "ipython",
    "version": 3
   },
   "file_extension": ".py",
   "mimetype": "text/x-python",
   "name": "python",
   "nbconvert_exporter": "python",
   "pygments_lexer": "ipython3",
   "version": "3.9.7"
  }
 },
 "nbformat": 4,
 "nbformat_minor": 5
}
