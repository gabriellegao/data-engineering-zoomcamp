{
 "cells": [
  {
   "cell_type": "code",
   "execution_count": 13,
   "id": "6f0a838d",
   "metadata": {},
   "outputs": [],
   "source": [
    "import pyspark\n",
    "from pyspark.sql import SparkSession\n",
    "from datetime import datetime\n",
    "from pyspark.conf import SparkConf\n",
    "from pyspark.context import SparkContext\n",
    "\n",
    "# spark = SparkSession.builder \\\n",
    "#     .master(\"local[*]\") \\\n",
    "#     .appName('test') \\\n",
    "#     .getOrCreate()"
   ]
  },
  {
   "cell_type": "code",
   "execution_count": 12,
   "id": "002c00ac",
   "metadata": {},
   "outputs": [],
   "source": [
    "Stop SparkContext\n",
    "# SparkContext._active_spark_context.stop()"
   ]
  },
  {
   "cell_type": "code",
   "execution_count": 14,
   "id": "e9cbff21",
   "metadata": {},
   "outputs": [],
   "source": [
    "# Credential location needs to be full path, \"~\" is not accepted\n",
    "credentials_location = '/home/gabrielle/.google/credentials/google_credentials.json'\n",
    "\n",
    "conf = SparkConf() \\\n",
    "    .setMaster('local[*]') \\\n",
    "    .setAppName('test') \\\n",
    "    .set(\"spark.jars\", \"./lib/gcs-connector-hadoop3-2.2.5.jar\") \\\n",
    "    .set(\"spark.hadoop.google.cloud.auth.service.account.enable\", \"true\") \\\n",
    "    .set(\"spark.hadoop.google.cloud.auth.service.account.json.keyfile\", credentials_location)\n"
   ]
  },
  {
   "cell_type": "code",
   "execution_count": 15,
   "id": "da1d9dbb",
   "metadata": {},
   "outputs": [],
   "source": [
    "sc = SparkContext(conf=conf)\n",
    "\n",
    "hadoop_conf = sc._jsc.hadoopConfiguration()\n",
    "\n",
    "hadoop_conf.set(\"fs.AbstractFileSystem.gs.impl\",  \"com.google.cloud.hadoop.fs.gcs.GoogleHadoopFS\")\n",
    "hadoop_conf.set(\"fs.gs.impl\", \"com.google.cloud.hadoop.fs.gcs.GoogleHadoopFileSystem\")\n",
    "hadoop_conf.set(\"fs.gs.auth.service.account.json.keyfile\", credentials_location)\n",
    "hadoop_conf.set(\"fs.gs.auth.service.account.enable\", \"true\")"
   ]
  },
  {
   "cell_type": "code",
   "execution_count": 16,
   "id": "cb17ee0b",
   "metadata": {},
   "outputs": [],
   "source": [
    "spark = SparkSession.builder \\\n",
    "    .config(conf=sc.getConf()) \\\n",
    "    .getOrCreate()"
   ]
  },
  {
   "cell_type": "code",
   "execution_count": 17,
   "id": "9edcd1aa",
   "metadata": {
    "scrolled": false
   },
   "outputs": [
    {
     "name": "stderr",
     "output_type": "stream",
     "text": [
      "                                                                                \r"
     ]
    }
   ],
   "source": [
    "df_green = spark.read\\\n",
    "    .parquet('gs://nifty-structure-252803-terra-bucket/pq/green/*/*')"
   ]
  },
  {
   "cell_type": "code",
   "execution_count": 18,
   "id": "e04430ef",
   "metadata": {},
   "outputs": [
    {
     "name": "stderr",
     "output_type": "stream",
     "text": [
      "[Stage 1:>                                                          (0 + 1) / 1]\r"
     ]
    },
    {
     "name": "stdout",
     "output_type": "stream",
     "text": [
      "+--------+--------------------+---------------------+------------------+----------+------------+------------+---------------+-------------+-----------+-----+-------+----------+------------+---------+---------------------+------------+------------+---------+--------------------+\n",
      "|VendorID|lpep_pickup_datetime|lpep_dropoff_datetime|store_and_fwd_flag|RatecodeID|PULocationID|DOLocationID|passenger_count|trip_distance|fare_amount|extra|mta_tax|tip_amount|tolls_amount|ehail_fee|improvement_surcharge|total_amount|payment_type|trip_type|congestion_surcharge|\n",
      "+--------+--------------------+---------------------+------------------+----------+------------+------------+---------------+-------------+-----------+-----+-------+----------+------------+---------+---------------------+------------+------------+---------+--------------------+\n",
      "|       2| 2020-01-11 04:05:54|  2020-01-11 04:13:49|                 N|       1.0|         129|         129|            1.0|         0.81|        6.5|  0.5|    0.5|      0.71|         0.0|     null|                  0.3|        8.51|         1.0|      1.0|                 0.0|\n",
      "|       2| 2020-01-17 19:33:05|  2020-01-17 19:51:08|                 N|       1.0|          75|          42|            3.0|         2.69|       13.5|  1.0|    0.5|      3.06|         0.0|     null|                  0.3|       18.36|         1.0|      1.0|                 0.0|\n",
      "|       2| 2020-01-30 12:41:00|  2020-01-30 13:30:00|              null|      null|         117|         188|           null|        13.11|      38.57| 2.75|    0.0|       0.0|        2.29|     null|                  0.3|       43.91|        null|     null|                null|\n",
      "|       2| 2020-01-11 21:25:44|  2020-01-11 21:40:11|                 N|       1.0|          41|         151|            1.0|         2.13|       11.0|  0.5|    0.5|       0.0|         0.0|     null|                  0.3|        12.3|         2.0|      1.0|                 0.0|\n",
      "|       2| 2020-01-04 21:45:19|  2020-01-04 21:52:57|                 N|       1.0|         129|         260|            1.0|         0.89|        6.5|  0.5|    0.5|       0.0|         0.0|     null|                  0.3|         7.8|         2.0|      1.0|                 0.0|\n",
      "|       2| 2020-01-15 19:07:07|  2020-01-15 19:12:56|                 N|       1.0|          75|          75|            1.0|         0.88|        5.5|  1.0|    0.5|      1.46|         0.0|     null|                  0.3|        8.76|         1.0|      1.0|                 0.0|\n",
      "|       2| 2020-01-11 00:01:17|  2020-01-11 00:10:14|                 N|       1.0|          66|         232|            1.0|         2.25|        9.5|  0.5|    0.5|      2.71|         0.0|     null|                  0.3|       16.26|         1.0|      1.0|                2.75|\n",
      "|       2| 2020-01-16 14:54:30|  2020-01-16 15:00:39|                 N|       1.0|         129|         129|            2.0|         0.91|        6.0|  0.0|    0.5|       0.0|         0.0|     null|                  0.3|         6.8|         2.0|      1.0|                 0.0|\n",
      "|       2| 2020-01-01 19:53:32|  2020-01-01 20:05:59|                 N|       1.0|          41|         168|            5.0|         2.69|       11.0|  0.0|    0.5|       0.0|         0.0|     null|                  0.3|        11.8|         2.0|      1.0|                 0.0|\n",
      "|       2| 2020-01-21 06:53:00|  2020-01-21 07:24:00|              null|      null|          37|          33|           null|         5.35|      30.99| 2.75|    0.0|       0.0|         0.0|     null|                  0.3|       34.04|        null|     null|                null|\n",
      "|       2| 2020-01-19 12:18:31|  2020-01-19 12:23:29|                 N|       1.0|         129|         129|            1.0|         0.58|        5.0|  0.0|    0.5|       0.0|         0.0|     null|                  0.3|         5.8|         2.0|      1.0|                 0.0|\n",
      "|       2| 2020-01-12 10:38:00|  2020-01-12 10:56:00|              null|      null|          51|          60|           null|         7.83|      27.65| 2.75|    0.0|       0.0|         0.0|     null|                  0.3|        30.7|        null|     null|                null|\n",
      "|       1| 2020-01-04 13:39:34|  2020-01-04 13:43:59|                 N|       1.0|         255|         255|            1.0|          0.5|        5.0|  0.0|    0.5|       0.0|         0.0|     null|                  0.3|         5.8|         2.0|      1.0|                 0.0|\n",
      "|       1| 2020-01-27 14:50:40|  2020-01-27 14:56:26|                 N|       1.0|          95|          95|            1.0|          0.9|        6.0|  0.0|    0.5|      1.35|         0.0|     null|                  0.3|        8.15|         1.0|      1.0|                 0.0|\n",
      "|       2| 2020-01-20 08:41:00|  2020-01-20 09:25:00|              null|      null|          86|         140|           null|        23.88|      67.67| 2.75|    0.0|       0.0|        6.12|     null|                  0.3|       76.84|        null|     null|                null|\n",
      "|       2| 2020-01-07 13:39:00|  2020-01-07 13:52:00|              null|      null|          82|          56|           null|         1.96|      15.89| 2.75|    0.0|       0.0|         0.0|     null|                  0.3|       18.94|        null|     null|                null|\n",
      "|       1| 2020-01-25 10:04:57|  2020-01-25 10:12:57|                 N|       5.0|         182|         213|            1.0|          0.0|        8.0|  0.0|    0.0|       0.0|         0.0|     null|                  0.0|         8.0|         2.0|      2.0|                 0.0|\n",
      "|       2| 2020-01-03 16:29:05|  2020-01-03 16:39:03|                 N|       1.0|           7|         223|            1.0|         1.43|        8.5|  1.0|    0.5|       0.0|         0.0|     null|                  0.3|        10.3|         2.0|      1.0|                 0.0|\n",
      "|       2| 2020-01-09 23:33:28|  2020-01-09 23:38:47|                 N|       1.0|         255|         256|            1.0|         0.85|        5.5|  0.5|    0.5|       0.0|         0.0|     null|                  0.3|         6.8|         2.0|      1.0|                 0.0|\n",
      "|       2| 2020-01-03 23:16:25|  2020-01-03 23:30:25|                 N|       5.0|          69|         247|            1.0|         2.41|       15.0|  0.0|    0.0|       0.0|         0.0|     null|                  0.3|        15.3|         2.0|      2.0|                 0.0|\n",
      "+--------+--------------------+---------------------+------------------+----------+------------+------------+---------------+-------------+-----------+-----+-------+----------+------------+---------+---------------------+------------+------------+---------+--------------------+\n",
      "only showing top 20 rows\n",
      "\n"
     ]
    },
    {
     "name": "stderr",
     "output_type": "stream",
     "text": [
      "                                                                                \r"
     ]
    }
   ],
   "source": [
    "df_green.show()"
   ]
  },
  {
   "cell_type": "code",
   "execution_count": 5,
   "id": "505549dd",
   "metadata": {},
   "outputs": [],
   "source": [
    "rdd = df_green\\\n",
    "    .select('lpep_pickup_datetime', 'PULocationID', 'total_amount')\\\n",
    "    .rdd"
   ]
  },
  {
   "cell_type": "code",
   "execution_count": 6,
   "id": "030502f5",
   "metadata": {},
   "outputs": [
    {
     "data": {
      "text/plain": [
       "[Row(lpep_pickup_datetime=datetime.datetime(2020, 1, 11, 4, 5, 54), PULocationID=129, total_amount=8.51)]"
      ]
     },
     "execution_count": 6,
     "metadata": {},
     "output_type": "execute_result"
    }
   ],
   "source": [
    "# Lambada是一种内嵌函数，类似def\n",
    "# 格式：Lambda arguments: expression\n",
    "rdd.filter(lambda row: True).take(1)"
   ]
  },
  {
   "cell_type": "code",
   "execution_count": 11,
   "id": "0e775e61",
   "metadata": {},
   "outputs": [
    {
     "data": {
      "text/plain": [
       "datetime.datetime(2020, 1, 1, 0, 0)"
      ]
     },
     "execution_count": 11,
     "metadata": {},
     "output_type": "execute_result"
    }
   ],
   "source": [
    "start = datetime(2020,1,1)\n",
    "start"
   ]
  },
  {
   "cell_type": "code",
   "execution_count": 12,
   "id": "42e65d5d",
   "metadata": {},
   "outputs": [
    {
     "data": {
      "text/plain": [
       "[Row(lpep_pickup_datetime=datetime.datetime(2020, 1, 11, 4, 5, 54), PULocationID=129, total_amount=8.51)]"
      ]
     },
     "execution_count": 12,
     "metadata": {},
     "output_type": "execute_result"
    }
   ],
   "source": [
    "rdd.filter(lambda row: row.lpep_pickup_datetime >= start).take(1)"
   ]
  },
  {
   "cell_type": "code",
   "execution_count": 13,
   "id": "1c52ef14",
   "metadata": {},
   "outputs": [],
   "source": [
    "rows = rdd.take(10)\n",
    "row = rows[0]"
   ]
  },
  {
   "cell_type": "code",
   "execution_count": 14,
   "id": "0afddfab",
   "metadata": {},
   "outputs": [
    {
     "data": {
      "text/plain": [
       "datetime.datetime(2020, 1, 11, 4, 0)"
      ]
     },
     "execution_count": 14,
     "metadata": {},
     "output_type": "execute_result"
    }
   ],
   "source": [
    "row.lpep_pickup_datetime.replace(minute=0, second=0, microsecond=0)"
   ]
  },
  {
   "cell_type": "code",
   "execution_count": 19,
   "id": "6ccdeb2e",
   "metadata": {},
   "outputs": [],
   "source": [
    "# Filter out the pickup_datetime > start date (2020-01-01)\n",
    "def filter_outliers(row):\n",
    "    return row.lpep_pickup_datetime >= start"
   ]
  },
  {
   "cell_type": "code",
   "execution_count": 20,
   "id": "5b293df0",
   "metadata": {},
   "outputs": [],
   "source": [
    "# Formart the pickup_datetime\n",
    "# Create composite key and composite value\n",
    "def prepare_for_grouping(row):\n",
    "    hour = row.lpep_pickup_datetime\\\n",
    "                .replace(minute=0, second=0, microsecond=0)\n",
    "    zone = row.PULocationID\n",
    "    key = (hour, zone)\n",
    "    \n",
    "    amount = row.total_amount\n",
    "    count = 1\n",
    "    value = (amount, count)\n",
    "    \n",
    "    return (key,value)"
   ]
  },
  {
   "cell_type": "code",
   "execution_count": 22,
   "id": "25fc20ea",
   "metadata": {},
   "outputs": [],
   "source": [
    "def calculate_revenue(left_value, right_value):\n",
    "    left_amount, left_count = left_value\n",
    "    right_amount, right_count = right_value\n",
    "    \n",
    "    output_amount = left_amount + right_amount\n",
    "    output_count = left_count + right_count\n",
    "    \n",
    "    return (output_amount, output_count)"
   ]
  },
  {
   "cell_type": "code",
   "execution_count": 29,
   "id": "2a6a8b9f",
   "metadata": {},
   "outputs": [],
   "source": [
    "from collections import namedtuple"
   ]
  },
  {
   "cell_type": "code",
   "execution_count": 30,
   "id": "bb0e9a6d",
   "metadata": {},
   "outputs": [],
   "source": [
    "revenuerow = namedtuple('revenuerow', ['hour','zone','revenue','count'])"
   ]
  },
  {
   "cell_type": "code",
   "execution_count": 31,
   "id": "2d4c6b6c",
   "metadata": {},
   "outputs": [],
   "source": [
    "def unwrap(row):\n",
    "    return revenuerow(\n",
    "        hour = row[0][0], \n",
    "        zone = row[0][1], \n",
    "        revenue = row[1][0], \n",
    "        count = row[1][1])"
   ]
  },
  {
   "cell_type": "code",
   "execution_count": 43,
   "id": "45890d71",
   "metadata": {},
   "outputs": [],
   "source": [
    "from pyspark.sql.types import StructType, StructField, IntegerType,TimestampType,DoubleType\n",
    "schema = StructType([\n",
    "            StructField('hour', TimestampType(), True), \n",
    "            StructField('zone', IntegerType(), True), \n",
    "            StructField('revenue', DoubleType(), True), \n",
    "            StructField('count', IntegerType(), True)])"
   ]
  },
  {
   "cell_type": "code",
   "execution_count": 44,
   "id": "4e9a5307",
   "metadata": {},
   "outputs": [],
   "source": [
    "# Filter and Map process each row of rdd and throw out results.\n",
    "# Wrong format: .filter(filter_outliers(row)).\n",
    "# The def function process the row and return .filter(True)\n",
    "# Correct format: .filter(filter_outliers)\n",
    "# The def function automatically process each row\n",
    "df_results = rdd\\\n",
    "    .filter(filter_outliers)\\\n",
    "    .map(prepare_for_grouping)\\\n",
    "    .reduceByKey(calculate_revenue)\\\n",
    "    .map(unwrap)\\\n",
    "    .toDF(schema)"
   ]
  },
  {
   "cell_type": "code",
   "execution_count": 46,
   "id": "330a90b3",
   "metadata": {},
   "outputs": [
    {
     "name": "stderr",
     "output_type": "stream",
     "text": [
      "                                                                                \r"
     ]
    }
   ],
   "source": [
    "df_results.write.parquet('tmp/green-revenue')"
   ]
  },
  {
   "cell_type": "code",
   "execution_count": 48,
   "id": "bb4452e1",
   "metadata": {},
   "outputs": [],
   "source": [
    "columns = ['VendorID', 'lpep_pickup_datetime','PULocationID',\n",
    "               'DOLocationID','trip_distance']\n",
    "duration_rdd = df_green.select(columns).rdd"
   ]
  },
  {
   "cell_type": "code",
   "execution_count": 58,
   "id": "261c174b",
   "metadata": {},
   "outputs": [],
   "source": [
    "import pandas as pd\n"
   ]
  },
  {
   "cell_type": "code",
   "execution_count": 80,
   "id": "5cdbec52",
   "metadata": {},
   "outputs": [
    {
     "data": {
      "text/plain": [
       "[Row(VendorID=2, lpep_pickup_datetime=datetime.datetime(2020, 1, 11, 4, 5, 54), PULocationID=129, DOLocationID=129, trip_distance=0.81),\n",
       " Row(VendorID=2, lpep_pickup_datetime=datetime.datetime(2020, 1, 17, 19, 33, 5), PULocationID=75, DOLocationID=42, trip_distance=2.69),\n",
       " Row(VendorID=2, lpep_pickup_datetime=datetime.datetime(2020, 1, 30, 12, 41), PULocationID=117, DOLocationID=188, trip_distance=13.11),\n",
       " Row(VendorID=2, lpep_pickup_datetime=datetime.datetime(2020, 1, 11, 21, 25, 44), PULocationID=41, DOLocationID=151, trip_distance=2.13),\n",
       " Row(VendorID=2, lpep_pickup_datetime=datetime.datetime(2020, 1, 4, 21, 45, 19), PULocationID=129, DOLocationID=260, trip_distance=0.89)]"
      ]
     },
     "execution_count": 80,
     "metadata": {},
     "output_type": "execute_result"
    }
   ],
   "source": [
    "rows = duration_rdd.take(5)\n",
    "df = pd.DataFrame(rows, columns=columns)\n",
    "rows"
   ]
  },
  {
   "cell_type": "code",
   "execution_count": 64,
   "id": "1e47710e",
   "metadata": {},
   "outputs": [],
   "source": [
    "def model_predict(df):\n",
    "    y_pred=df.trip_distance * 5\n",
    "    return y_pred"
   ]
  },
  {
   "cell_type": "code",
   "execution_count": 77,
   "id": "1c137c38",
   "metadata": {},
   "outputs": [],
   "source": [
    "# itertuples()\n",
    "# yield\n",
    "# RDD to Panda DF\n",
    "# Panda DF to RDD\n",
    "# iter() and iterable, iterator\n",
    "# next() and list()\n",
    "def apply_model_in_batch(rows):\n",
    "    df = pd.DataFrame(rows, columns=columns)\n",
    "    predictions = model_predict(df)\n",
    "    df['predict_duration'] = predictions\n",
    "    \n",
    "    for row in df.itertuples():\n",
    "        yield row"
   ]
  },
  {
   "cell_type": "code",
   "execution_count": 79,
   "id": "e87399c7",
   "metadata": {},
   "outputs": [
    {
     "name": "stderr",
     "output_type": "stream",
     "text": [
      "[Stage 42:>                                                         (0 + 1) / 1]\r"
     ]
    },
    {
     "name": "stdout",
     "output_type": "stream",
     "text": [
      "+-----+--------+--------------------+------------+------------+-------------+------------------+\n",
      "|Index|VendorID|lpep_pickup_datetime|PULocationID|DOLocationID|trip_distance|  predict_duration|\n",
      "+-----+--------+--------------------+------------+------------+-------------+------------------+\n",
      "|    0|       2|                  {}|         129|         129|         0.81| 4.050000000000001|\n",
      "|    1|       2|                  {}|          75|          42|         2.69|             13.45|\n",
      "|    2|       2|                  {}|         117|         188|        13.11|             65.55|\n",
      "|    3|       2|                  {}|          41|         151|         2.13|10.649999999999999|\n",
      "|    4|       2|                  {}|         129|         260|         0.89|              4.45|\n",
      "|    5|       2|                  {}|          75|          75|         0.88|               4.4|\n",
      "|    6|       2|                  {}|          66|         232|         2.25|             11.25|\n",
      "|    7|       2|                  {}|         129|         129|         0.91|              4.55|\n",
      "|    8|       2|                  {}|          41|         168|         2.69|             13.45|\n",
      "|    9|       2|                  {}|          37|          33|         5.35|             26.75|\n",
      "+-----+--------+--------------------+------------+------------+-------------+------------------+\n",
      "only showing top 10 rows\n",
      "\n"
     ]
    },
    {
     "name": "stderr",
     "output_type": "stream",
     "text": [
      "                                                                                \r"
     ]
    }
   ],
   "source": [
    "df_predicts = duration_rdd.mapPartitions(apply_model_in_batch).toDF().show(10)"
   ]
  }
 ],
 "metadata": {
  "kernelspec": {
   "display_name": "Python 3 (ipykernel)",
   "language": "python",
   "name": "python3"
  },
  "language_info": {
   "codemirror_mode": {
    "name": "ipython",
    "version": 3
   },
   "file_extension": ".py",
   "mimetype": "text/x-python",
   "name": "python",
   "nbconvert_exporter": "python",
   "pygments_lexer": "ipython3",
   "version": "3.9.7"
  }
 },
 "nbformat": 4,
 "nbformat_minor": 5
}
