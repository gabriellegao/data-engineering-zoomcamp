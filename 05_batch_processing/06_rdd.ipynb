{
 "cells": [
  {
   "cell_type": "code",
   "execution_count": 8,
   "id": "6f0a838d",
   "metadata": {},
   "outputs": [],
   "source": [
    "import pyspark\n",
    "from pyspark.sql import SparkSession\n",
    "from datetime import datetime\n",
    "\n",
    "spark = SparkSession.builder \\\n",
    "    .master(\"local[*]\") \\\n",
    "    .appName('test') \\\n",
    "    .getOrCreate()"
   ]
  },
  {
   "cell_type": "code",
   "execution_count": 2,
   "id": "9edcd1aa",
   "metadata": {},
   "outputs": [
    {
     "name": "stderr",
     "output_type": "stream",
     "text": [
      "                                                                                \r"
     ]
    }
   ],
   "source": [
    "df_green = spark.read.parquet('data/pq/green/*/*')"
   ]
  },
  {
   "cell_type": "code",
   "execution_count": null,
   "id": "e04430ef",
   "metadata": {},
   "outputs": [],
   "source": [
    "'''SELECT \n",
    "    date_trunc('hour', lpep_pickup_datetime) AS hour, \n",
    "    PULocationID AS zone,\n",
    "\n",
    "    SUM(total_amount) AS amount,\n",
    "    COUNT(1) AS number_records\n",
    "FROM\n",
    "    green\n",
    "WHERE\n",
    "    lpep_pickup_datetime >= '2020-01-01 00:00:00'\n",
    "GROUP BY\n",
    "    1, 2'''"
   ]
  },
  {
   "cell_type": "code",
   "execution_count": 5,
   "id": "505549dd",
   "metadata": {},
   "outputs": [],
   "source": [
    "rdd = df_green\\\n",
    "    .select('lpep_pickup_datetime', 'PULocationID', 'total_amount')\\\n",
    "    .rdd"
   ]
  },
  {
   "cell_type": "code",
   "execution_count": 6,
   "id": "030502f5",
   "metadata": {},
   "outputs": [
    {
     "data": {
      "text/plain": [
       "[Row(lpep_pickup_datetime=datetime.datetime(2020, 1, 11, 4, 5, 54), PULocationID=129, total_amount=8.51)]"
      ]
     },
     "execution_count": 6,
     "metadata": {},
     "output_type": "execute_result"
    }
   ],
   "source": [
    "# Lambada是一种内嵌函数，类似def\n",
    "# 格式：Lambda arguments: expression\n",
    "rdd.filter(lambda row: True).take(1)"
   ]
  },
  {
   "cell_type": "code",
   "execution_count": 11,
   "id": "0e775e61",
   "metadata": {},
   "outputs": [
    {
     "data": {
      "text/plain": [
       "datetime.datetime(2020, 1, 1, 0, 0)"
      ]
     },
     "execution_count": 11,
     "metadata": {},
     "output_type": "execute_result"
    }
   ],
   "source": [
    "start = datetime(2020,1,1)\n",
    "start"
   ]
  },
  {
   "cell_type": "code",
   "execution_count": 12,
   "id": "42e65d5d",
   "metadata": {},
   "outputs": [
    {
     "data": {
      "text/plain": [
       "[Row(lpep_pickup_datetime=datetime.datetime(2020, 1, 11, 4, 5, 54), PULocationID=129, total_amount=8.51)]"
      ]
     },
     "execution_count": 12,
     "metadata": {},
     "output_type": "execute_result"
    }
   ],
   "source": [
    "rdd.filter(lambda row: row.lpep_pickup_datetime >= start).take(1)"
   ]
  },
  {
   "cell_type": "code",
   "execution_count": 13,
   "id": "1c52ef14",
   "metadata": {},
   "outputs": [],
   "source": [
    "rows = rdd.take(10)\n",
    "row = rows[0]"
   ]
  },
  {
   "cell_type": "code",
   "execution_count": 14,
   "id": "0afddfab",
   "metadata": {},
   "outputs": [
    {
     "data": {
      "text/plain": [
       "datetime.datetime(2020, 1, 11, 4, 0)"
      ]
     },
     "execution_count": 14,
     "metadata": {},
     "output_type": "execute_result"
    }
   ],
   "source": [
    "row.lpep_pickup_datetime.replace(minute=0, second=0, microsecond=0)"
   ]
  },
  {
   "cell_type": "code",
   "execution_count": 19,
   "id": "6ccdeb2e",
   "metadata": {},
   "outputs": [],
   "source": [
    "# Filter out the pickup_datetime > start date (2020-01-01)\n",
    "def filter_outliers(row):\n",
    "    return row.lpep_pickup_datetime >= start"
   ]
  },
  {
   "cell_type": "code",
   "execution_count": 20,
   "id": "5b293df0",
   "metadata": {},
   "outputs": [],
   "source": [
    "# Formart the pickup_datetime\n",
    "# Create composite key and composite value\n",
    "def prepare_for_grouping(row):\n",
    "    hour = row.lpep_pickup_datetime\\\n",
    "                .replace(minute=0, second=0, microsecond=0)\n",
    "    zone = row.PULocationID\n",
    "    key = (hour, zone)\n",
    "    \n",
    "    amount = row.total_amount\n",
    "    count = 1\n",
    "    value = (amount, count)\n",
    "    \n",
    "    return (key,value) # (key, (amount, count))"
   ]
  },
  {
   "cell_type": "code",
   "execution_count": 22,
   "id": "25fc20ea",
   "metadata": {},
   "outputs": [],
   "source": [
    "def calculate_revenue(left_value, right_value):\n",
    "    left_amount, left_count = left_value #left[0]=amount, left[1]=count\n",
    "    right_amount, right_count = right_value\n",
    "    \n",
    "    output_amount = left_amount + right_amount\n",
    "    output_count = left_count + right_count\n",
    "    \n",
    "    return (output_amount, output_count)"
   ]
  },
  {
   "cell_type": "code",
   "execution_count": 29,
   "id": "2a6a8b9f",
   "metadata": {},
   "outputs": [],
   "source": [
    "from collections import namedtuple"
   ]
  },
  {
   "cell_type": "code",
   "execution_count": 30,
   "id": "bb0e9a6d",
   "metadata": {},
   "outputs": [],
   "source": [
    "revenuerow = namedtuple('revenuerow', ['hour','zone','revenue','count'])"
   ]
  },
  {
   "cell_type": "code",
   "execution_count": 31,
   "id": "2d4c6b6c",
   "metadata": {},
   "outputs": [],
   "source": [
    "def unwrap(row):\n",
    "    return revenuerow(\n",
    "        hour = row[0][0], \n",
    "        zone = row[0][1], \n",
    "        revenue = row[1][0], \n",
    "        count = row[1][1])"
   ]
  },
  {
   "cell_type": "code",
   "execution_count": 43,
   "id": "45890d71",
   "metadata": {},
   "outputs": [],
   "source": [
    "from pyspark.sql.types import StructType, StructField, IntegerType,TimestampType,DoubleType\n",
    "schema = StructType([\n",
    "            StructField('hour', TimestampType(), True), \n",
    "            StructField('zone', IntegerType(), True), \n",
    "            StructField('revenue', DoubleType(), True), \n",
    "            StructField('count', IntegerType(), True)])"
   ]
  },
  {
   "cell_type": "code",
   "execution_count": 44,
   "id": "4e9a5307",
   "metadata": {},
   "outputs": [],
   "source": [
    "# Filter and Map process each row of rdd and throw out results.\n",
    "# Wrong format: .filter(filter_outliers(row)).\n",
    "# The def function process the row and return .filter(True)\n",
    "# Correct format: .filter(filter_outliers)\n",
    "# The def function automatically process each row\n",
    "df_results = rdd\\\n",
    "    .filter(filter_outliers)\\\n",
    "    .map(prepare_for_grouping)\\\n",
    "    .reduceByKey(calculate_revenue)\\\n",
    "    .map(unwrap)\\\n",
    "    .toDF(schema)"
   ]
  },
  {
   "cell_type": "code",
   "execution_count": 46,
   "id": "330a90b3",
   "metadata": {},
   "outputs": [
    {
     "name": "stderr",
     "output_type": "stream",
     "text": [
      "                                                                                \r"
     ]
    }
   ],
   "source": [
    "df_results.write.parquet('tmp/green-revenue')"
   ]
  },
  {
   "cell_type": "code",
   "execution_count": 48,
   "id": "bb4452e1",
   "metadata": {},
   "outputs": [],
   "source": [
    "columns = ['VendorID', 'lpep_pickup_datetime','PULocationID',\n",
    "               'DOLocationID','trip_distance']\n",
    "duration_rdd = df_green.select(columns).rdd"
   ]
  },
  {
   "cell_type": "code",
   "execution_count": 58,
   "id": "261c174b",
   "metadata": {},
   "outputs": [],
   "source": [
    "import pandas as pd\n"
   ]
  },
  {
   "cell_type": "code",
   "execution_count": 80,
   "id": "5cdbec52",
   "metadata": {},
   "outputs": [
    {
     "data": {
      "text/plain": [
       "[Row(VendorID=2, lpep_pickup_datetime=datetime.datetime(2020, 1, 11, 4, 5, 54), PULocationID=129, DOLocationID=129, trip_distance=0.81),\n",
       " Row(VendorID=2, lpep_pickup_datetime=datetime.datetime(2020, 1, 17, 19, 33, 5), PULocationID=75, DOLocationID=42, trip_distance=2.69),\n",
       " Row(VendorID=2, lpep_pickup_datetime=datetime.datetime(2020, 1, 30, 12, 41), PULocationID=117, DOLocationID=188, trip_distance=13.11),\n",
       " Row(VendorID=2, lpep_pickup_datetime=datetime.datetime(2020, 1, 11, 21, 25, 44), PULocationID=41, DOLocationID=151, trip_distance=2.13),\n",
       " Row(VendorID=2, lpep_pickup_datetime=datetime.datetime(2020, 1, 4, 21, 45, 19), PULocationID=129, DOLocationID=260, trip_distance=0.89)]"
      ]
     },
     "execution_count": 80,
     "metadata": {},
     "output_type": "execute_result"
    }
   ],
   "source": [
    "rows = duration_rdd.take(5)\n",
    "df = pd.DataFrame(rows, columns=columns)\n",
    "rows"
   ]
  },
  {
   "cell_type": "code",
   "execution_count": 64,
   "id": "1e47710e",
   "metadata": {},
   "outputs": [],
   "source": [
    "def model_predict(df):\n",
    "    y_pred=df.trip_distance * 5\n",
    "    return y_pred"
   ]
  },
  {
   "cell_type": "code",
   "execution_count": 77,
   "id": "1c137c38",
   "metadata": {},
   "outputs": [],
   "source": [
    "# itertuples()\n",
    "# yield\n",
    "# RDD to Panda DF\n",
    "# Panda DF to RDD\n",
    "# iter() and iterable, iterator\n",
    "# next() and list()\n",
    "def apply_model_in_batch(rows):\n",
    "    df = pd.DataFrame(rows, columns=columns)\n",
    "    predictions = model_predict(df)\n",
    "    df['predict_duration'] = predictions\n",
    "    \n",
    "    for row in df.itertuples():\n",
    "        yield row"
   ]
  },
  {
   "cell_type": "code",
   "execution_count": 79,
   "id": "e87399c7",
   "metadata": {},
   "outputs": [
    {
     "name": "stderr",
     "output_type": "stream",
     "text": [
      "[Stage 42:>                                                         (0 + 1) / 1]\r"
     ]
    },
    {
     "name": "stdout",
     "output_type": "stream",
     "text": [
      "+-----+--------+--------------------+------------+------------+-------------+------------------+\n",
      "|Index|VendorID|lpep_pickup_datetime|PULocationID|DOLocationID|trip_distance|  predict_duration|\n",
      "+-----+--------+--------------------+------------+------------+-------------+------------------+\n",
      "|    0|       2|                  {}|         129|         129|         0.81| 4.050000000000001|\n",
      "|    1|       2|                  {}|          75|          42|         2.69|             13.45|\n",
      "|    2|       2|                  {}|         117|         188|        13.11|             65.55|\n",
      "|    3|       2|                  {}|          41|         151|         2.13|10.649999999999999|\n",
      "|    4|       2|                  {}|         129|         260|         0.89|              4.45|\n",
      "|    5|       2|                  {}|          75|          75|         0.88|               4.4|\n",
      "|    6|       2|                  {}|          66|         232|         2.25|             11.25|\n",
      "|    7|       2|                  {}|         129|         129|         0.91|              4.55|\n",
      "|    8|       2|                  {}|          41|         168|         2.69|             13.45|\n",
      "|    9|       2|                  {}|          37|          33|         5.35|             26.75|\n",
      "+-----+--------+--------------------+------------+------------+-------------+------------------+\n",
      "only showing top 10 rows\n",
      "\n"
     ]
    },
    {
     "name": "stderr",
     "output_type": "stream",
     "text": [
      "                                                                                \r"
     ]
    }
   ],
   "source": [
    "df_predicts = duration_rdd.mapPartitions(apply_model_in_batch).toDF().show(10)"
   ]
  }
 ],
 "metadata": {
  "kernelspec": {
   "display_name": "Python 3 (ipykernel)",
   "language": "python",
   "name": "python3"
  },
  "language_info": {
   "codemirror_mode": {
    "name": "ipython",
    "version": 3
   },
   "file_extension": ".py",
   "mimetype": "text/x-python",
   "name": "python",
   "nbconvert_exporter": "python",
   "pygments_lexer": "ipython3",
   "version": "3.9.7"
  }
 },
 "nbformat": 4,
 "nbformat_minor": 5
}
