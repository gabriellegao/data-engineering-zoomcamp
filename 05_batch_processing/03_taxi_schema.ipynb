{
 "cells": [
  {
   "cell_type": "code",
   "execution_count": 87,
   "id": "107246dd",
   "metadata": {},
   "outputs": [],
   "source": [
    "import pyspark\n",
    "from pyspark.sql.functions import col\n",
    "from pyspark.sql import SparkSession\n",
    "from pyspark.sql.types import StringType, IntegerType, LongType, DoubleType, TimestampType, StructField, StructType"
   ]
  },
  {
   "cell_type": "code",
   "execution_count": 44,
   "id": "6bbee73b",
   "metadata": {},
   "outputs": [],
   "source": [
    "spark = SparkSession.builder \\\n",
    "    .master(\"local[*]\") \\\n",
    "    .appName('test') \\\n",
    "    .getOrCreate()"
   ]
  },
  {
   "cell_type": "code",
   "execution_count": 58,
   "id": "8dcd9e87",
   "metadata": {},
   "outputs": [],
   "source": [
    "green_taxi_schema = StructType([\n",
    "    StructField('VendorID', LongType(), True), \n",
    "    StructField('lpep_pickup_datetime', TimestampType(), True), \n",
    "    StructField('lpep_dropoff_datetime', TimestampType(), True), \n",
    "    StructField('store_and_fwd_flag', StringType(), True), \n",
    "    StructField('RatecodeID', DoubleType(), True), \n",
    "    StructField('PULocationID', LongType(), True), \n",
    "    StructField('DOLocationID', LongType(), True), \n",
    "    StructField('passenger_count', DoubleType(), True), \n",
    "    StructField('trip_distance', DoubleType(), True), \n",
    "    StructField('fare_amount', DoubleType(), True), \n",
    "    StructField('extra', DoubleType(), True), \n",
    "    StructField('mta_tax', DoubleType(), True), \n",
    "    StructField('tip_amount', DoubleType(), True), \n",
    "    StructField('tolls_amount', DoubleType(), True), \n",
    "    StructField('ehail_fee', IntegerType(), True), \n",
    "    StructField('improvement_surcharge', DoubleType(), True), \n",
    "    StructField('total_amount', DoubleType(), True), \n",
    "    StructField('payment_type', DoubleType(), True), \n",
    "    StructField('trip_type', DoubleType(), True), \n",
    "    StructField('congestion_surcharge', DoubleType(), True)])"
   ]
  },
  {
   "cell_type": "code",
   "execution_count": 60,
   "id": "1086fe1c",
   "metadata": {},
   "outputs": [
    {
     "name": "stdout",
     "output_type": "stream",
     "text": [
      "processing data for 2020/01\n"
     ]
    },
    {
     "name": "stderr",
     "output_type": "stream",
     "text": [
      "                                                                                \r"
     ]
    },
    {
     "name": "stdout",
     "output_type": "stream",
     "text": [
      "processing data for 2020/02\n"
     ]
    },
    {
     "name": "stderr",
     "output_type": "stream",
     "text": [
      "                                                                                \r"
     ]
    },
    {
     "name": "stdout",
     "output_type": "stream",
     "text": [
      "processing data for 2020/03\n",
      "processing data for 2020/04\n",
      "processing data for 2020/05\n",
      "processing data for 2020/06\n",
      "processing data for 2020/07\n",
      "processing data for 2020/08\n",
      "processing data for 2020/09\n",
      "processing data for 2020/10\n",
      "processing data for 2020/11\n",
      "processing data for 2020/12\n"
     ]
    }
   ],
   "source": [
    "year = 2020\n",
    "for month in range(1,13):\n",
    "    # Read file\n",
    "    print(f'processing data for {year}/{month:02d}')\n",
    "    df_green_taxi = spark.read\\\n",
    "        .format('parquet')\\\n",
    "        .option('header', True)\\\n",
    "        .schema(green_taxi_schema)\\\n",
    "        .load(f'data/raw/green/{year}/{month:02d}/')\n",
    "\n",
    "    # Write file\n",
    "    df_green_taxi.repartition(4).write.mode('overwrite')\\\n",
    "        .format('parquet')\\\n",
    "        .save(f'data/pq/green/{year}/{month:02d}')"
   ]
  },
  {
   "cell_type": "code",
   "execution_count": null,
   "id": "6a63f93a",
   "metadata": {},
   "outputs": [],
   "source": []
  },
  {
   "cell_type": "code",
   "execution_count": 84,
   "id": "d3646701",
   "metadata": {},
   "outputs": [],
   "source": [
    "yellow_taxi_schema = StructType([\n",
    "    StructField('VendorID', LongType(), True), \n",
    "    StructField('tpep_pickup_datetime', TimestampType(), True), \n",
    "    StructField('tpep_dropoff_datetime', TimestampType(), True), \n",
    "    StructField('passenger_count', DoubleType(), True), \n",
    "    StructField('trip_distance', DoubleType(), True), \n",
    "    StructField('RatecodeID', DoubleType(), True), \n",
    "    StructField('store_and_fwd_flag', StringType(), True), \n",
    "    StructField('PULocationID', LongType(), True), \n",
    "    StructField('DOLocationID', LongType(), True), \n",
    "    StructField('payment_type', LongType(), True), \n",
    "    StructField('fare_amount', DoubleType(), True), \n",
    "    StructField('extra', DoubleType(), True), \n",
    "    StructField('mta_tax', DoubleType(), True), \n",
    "    StructField('tip_amount', DoubleType(), True), \n",
    "    StructField('tolls_amount', DoubleType(), True), \n",
    "    StructField('improvement_surcharge', DoubleType(), True), \n",
    "    StructField('total_amount', DoubleType(), True), \n",
    "    StructField('congestion_surcharge', DoubleType(), True), \n",
    "    StructField('airport_fee', DoubleType(), True)])"
   ]
  },
  {
   "cell_type": "code",
   "execution_count": 92,
   "id": "f060c55e",
   "metadata": {},
   "outputs": [
    {
     "name": "stdout",
     "output_type": "stream",
     "text": [
      "processing data for 2020/01\n"
     ]
    },
    {
     "name": "stderr",
     "output_type": "stream",
     "text": [
      "                                                                                \r"
     ]
    },
    {
     "name": "stdout",
     "output_type": "stream",
     "text": [
      "processing data for 2020/02\n"
     ]
    },
    {
     "name": "stderr",
     "output_type": "stream",
     "text": [
      "                                                                                \r"
     ]
    },
    {
     "name": "stdout",
     "output_type": "stream",
     "text": [
      "processing data for 2020/03\n"
     ]
    },
    {
     "name": "stderr",
     "output_type": "stream",
     "text": [
      "                                                                                \r"
     ]
    },
    {
     "name": "stdout",
     "output_type": "stream",
     "text": [
      "processing data for 2020/04\n"
     ]
    },
    {
     "name": "stderr",
     "output_type": "stream",
     "text": [
      "                                                                                \r"
     ]
    },
    {
     "name": "stdout",
     "output_type": "stream",
     "text": [
      "processing data for 2020/05\n"
     ]
    },
    {
     "name": "stderr",
     "output_type": "stream",
     "text": [
      "                                                                                \r"
     ]
    },
    {
     "name": "stdout",
     "output_type": "stream",
     "text": [
      "processing data for 2020/06\n"
     ]
    },
    {
     "name": "stderr",
     "output_type": "stream",
     "text": [
      "                                                                                \r"
     ]
    },
    {
     "name": "stdout",
     "output_type": "stream",
     "text": [
      "processing data for 2020/07\n"
     ]
    },
    {
     "name": "stderr",
     "output_type": "stream",
     "text": [
      "                                                                                \r"
     ]
    },
    {
     "name": "stdout",
     "output_type": "stream",
     "text": [
      "processing data for 2020/08\n"
     ]
    },
    {
     "name": "stderr",
     "output_type": "stream",
     "text": [
      "                                                                                \r"
     ]
    },
    {
     "name": "stdout",
     "output_type": "stream",
     "text": [
      "processing data for 2020/09\n"
     ]
    },
    {
     "name": "stderr",
     "output_type": "stream",
     "text": [
      "                                                                                \r"
     ]
    },
    {
     "name": "stdout",
     "output_type": "stream",
     "text": [
      "processing data for 2020/10\n"
     ]
    },
    {
     "name": "stderr",
     "output_type": "stream",
     "text": [
      "                                                                                \r"
     ]
    },
    {
     "name": "stdout",
     "output_type": "stream",
     "text": [
      "processing data for 2020/11\n"
     ]
    },
    {
     "name": "stderr",
     "output_type": "stream",
     "text": [
      "                                                                                \r"
     ]
    },
    {
     "name": "stdout",
     "output_type": "stream",
     "text": [
      "processing data for 2020/12\n"
     ]
    },
    {
     "name": "stderr",
     "output_type": "stream",
     "text": [
      "                                                                                \r"
     ]
    }
   ],
   "source": [
    "year = 2020\n",
    "for month in range(1,13):\n",
    "    # Read file\n",
    "    print(f'processing data for {year}/{month:02d}')\n",
    "    df_yellow_taxi = spark.read\\\n",
    "        .format('parquet')\\\n",
    "        .option('header', True)\\\n",
    "        .load(f'data/raw/yellow/{year}/{month:02d}/')\\\n",
    "        .withColumn('airport_fee', col('airport_fee').cast(DoubleType()))\n",
    "\n",
    "    # Write file\n",
    "    df_yellow_taxi.repartition(4).write.mode('overwrite')\\\n",
    "        .format('parquet')\\\n",
    "        .save(f'data/pq/yellow/{year}/{month:02d}')"
   ]
  },
  {
   "cell_type": "code",
   "execution_count": 91,
   "id": "a645f3d0",
   "metadata": {},
   "outputs": [
    {
     "data": {
      "text/plain": [
       "StructType([StructField('VendorID', LongType(), True), StructField('tpep_pickup_datetime', TimestampType(), True), StructField('tpep_dropoff_datetime', TimestampType(), True), StructField('passenger_count', DoubleType(), True), StructField('trip_distance', DoubleType(), True), StructField('RatecodeID', DoubleType(), True), StructField('store_and_fwd_flag', StringType(), True), StructField('PULocationID', LongType(), True), StructField('DOLocationID', LongType(), True), StructField('payment_type', LongType(), True), StructField('fare_amount', DoubleType(), True), StructField('extra', DoubleType(), True), StructField('mta_tax', DoubleType(), True), StructField('tip_amount', DoubleType(), True), StructField('tolls_amount', DoubleType(), True), StructField('improvement_surcharge', DoubleType(), True), StructField('total_amount', DoubleType(), True), StructField('congestion_surcharge', DoubleType(), True), StructField('airport_fee', DoubleType(), True)])"
      ]
     },
     "execution_count": 91,
     "metadata": {},
     "output_type": "execute_result"
    }
   ],
   "source": [
    "df_yellow_taxi = spark.read\\\n",
    "        .format('parquet')\\\n",
    "        .option('header', True)\\\n",
    "        .schema(yellow_taxi_schema)\\\n",
    "        .load(f'data/raw/yellow/{year}/{month:02d}/')\\\n",
    "        .withColumn('airport_fee', col('airport_fee').cast(DoubleType()))\n",
    "df_yellow_taxi.schema"
   ]
  },
  {
   "cell_type": "code",
   "execution_count": null,
   "id": "828f31ac",
   "metadata": {},
   "outputs": [],
   "source": []
  }
 ],
 "metadata": {
  "kernelspec": {
   "display_name": "Python 3 (ipykernel)",
   "language": "python",
   "name": "python3"
  },
  "language_info": {
   "codemirror_mode": {
    "name": "ipython",
    "version": 3
   },
   "file_extension": ".py",
   "mimetype": "text/x-python",
   "name": "python",
   "nbconvert_exporter": "python",
   "pygments_lexer": "ipython3",
   "version": "3.9.7"
  }
 },
 "nbformat": 4,
 "nbformat_minor": 5
}
